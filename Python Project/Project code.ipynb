{
 "cells": [
  {
   "cell_type": "markdown",
   "id": "250a233e-baff-473e-8ea7-714beaa51b3b",
   "metadata": {},
   "source": [
    "LOAN APPLICATION DATASET"
   ]
  },
  {
   "cell_type": "markdown",
   "id": "c3a9fe1d-98de-4c56-8641-35eca97290c3",
   "metadata": {},
   "source": [
    "-------"
   ]
  },
  {
   "cell_type": "markdown",
   "id": "442335a2-2ba3-44bc-b0c7-5fc64a60f0d9",
   "metadata": {},
   "source": [
    "AIM.\n",
    "\n",
    "    My aim is to analyse applicant loan details to predict whether a loan will be approved or not .\n",
    "\n"
   ]
  },
  {
   "cell_type": "markdown",
   "id": "78ff9153-e8b5-4449-b62f-6bb74f9fcee2",
   "metadata": {},
   "source": [
    "------"
   ]
  },
  {
   "cell_type": "markdown",
   "id": "79d85652-939c-4047-b8ff-e682043baf7c",
   "metadata": {},
   "source": [
    "MAIN OBJECTIVES.\n",
    "\n",
    "    1.Data Understanding.\n",
    "\n",
    "    2.Data Cleaning.\n",
    "\n",
    "    3.Filtering Data for Analysis.\n",
    "\n",
    "    4.EDA (Univariate, Bivariate & Multivariate Analysis).\n",
    "\n",
    "    5.Statistical Analysis.\n",
    "\n",
    "    6.Overall Insights from Analysis."
   ]
  },
  {
   "cell_type": "markdown",
   "id": "2d502a9d-f92b-47dc-a088-6fa79a2e3411",
   "metadata": {},
   "source": [
    "-----"
   ]
  },
  {
   "cell_type": "markdown",
   "id": "9a7ddaf9-aecb-4e6b-b395-a80a8aef0ff9",
   "metadata": {},
   "source": [
    "IMPORTING LIBRARIES\n",
    "\n",
    "    pandas(pd) - Read files.\n",
    "\n",
    "    numpy(np) - To do mathematical operations.\n",
    "\n",
    "    matplotlib(plt) - To make basic plots.\n",
    "\n",
    "    seaborn(sns) - To make advanced and good-looking charts."
   ]
  },
  {
   "cell_type": "code",
   "execution_count": 1,
   "id": "71a423b9-6b47-4144-9603-5dcdf8d12577",
   "metadata": {},
   "outputs": [],
   "source": [
    "import pandas as pd\n",
    "import numpy as np\n",
    "import matplotlib.pyplot as plt\n",
    "import seaborn as sns"
   ]
  },
  {
   "cell_type": "markdown",
   "id": "9a807fac-d216-4b24-9603-c599f9a96409",
   "metadata": {},
   "source": [
    "-----"
   ]
  },
  {
   "cell_type": "markdown",
   "id": "f9fd005b-de27-4b94-aae3-1cb5b4f99131",
   "metadata": {},
   "source": [
    "LOAD DATASET"
   ]
  },
  {
   "cell_type": "code",
   "execution_count": 2,
   "id": "825a98c4-a939-40cc-9a66-e17fb9c53b71",
   "metadata": {},
   "outputs": [
    {
     "data": {
      "text/html": [
       "<div>\n",
       "<style scoped>\n",
       "    .dataframe tbody tr th:only-of-type {\n",
       "        vertical-align: middle;\n",
       "    }\n",
       "\n",
       "    .dataframe tbody tr th {\n",
       "        vertical-align: top;\n",
       "    }\n",
       "\n",
       "    .dataframe thead th {\n",
       "        text-align: right;\n",
       "    }\n",
       "</style>\n",
       "<table border=\"1\" class=\"dataframe\">\n",
       "  <thead>\n",
       "    <tr style=\"text-align: right;\">\n",
       "      <th></th>\n",
       "      <th>Loan_ID</th>\n",
       "      <th>Gender</th>\n",
       "      <th>Married</th>\n",
       "      <th>Dependents</th>\n",
       "      <th>Education</th>\n",
       "      <th>Self_Employed</th>\n",
       "      <th>ApplicantIncome</th>\n",
       "      <th>CoapplicantIncome</th>\n",
       "      <th>LoanAmount</th>\n",
       "      <th>Loan_Amount_Term</th>\n",
       "      <th>Credit_History</th>\n",
       "      <th>Property_Area</th>\n",
       "    </tr>\n",
       "  </thead>\n",
       "  <tbody>\n",
       "    <tr>\n",
       "      <th>0</th>\n",
       "      <td>LP001015</td>\n",
       "      <td>Male</td>\n",
       "      <td>Yes</td>\n",
       "      <td>0</td>\n",
       "      <td>Graduate</td>\n",
       "      <td>No</td>\n",
       "      <td>5720</td>\n",
       "      <td>0</td>\n",
       "      <td>110.0</td>\n",
       "      <td>360.0</td>\n",
       "      <td>1.0</td>\n",
       "      <td>Urban</td>\n",
       "    </tr>\n",
       "    <tr>\n",
       "      <th>1</th>\n",
       "      <td>LP001022</td>\n",
       "      <td>Male</td>\n",
       "      <td>Yes</td>\n",
       "      <td>1</td>\n",
       "      <td>Graduate</td>\n",
       "      <td>No</td>\n",
       "      <td>3076</td>\n",
       "      <td>1500</td>\n",
       "      <td>126.0</td>\n",
       "      <td>360.0</td>\n",
       "      <td>1.0</td>\n",
       "      <td>Urban</td>\n",
       "    </tr>\n",
       "    <tr>\n",
       "      <th>2</th>\n",
       "      <td>LP001031</td>\n",
       "      <td>Male</td>\n",
       "      <td>Yes</td>\n",
       "      <td>2</td>\n",
       "      <td>Graduate</td>\n",
       "      <td>No</td>\n",
       "      <td>5000</td>\n",
       "      <td>1800</td>\n",
       "      <td>208.0</td>\n",
       "      <td>360.0</td>\n",
       "      <td>1.0</td>\n",
       "      <td>Urban</td>\n",
       "    </tr>\n",
       "    <tr>\n",
       "      <th>3</th>\n",
       "      <td>LP001035</td>\n",
       "      <td>Male</td>\n",
       "      <td>Yes</td>\n",
       "      <td>2</td>\n",
       "      <td>Graduate</td>\n",
       "      <td>No</td>\n",
       "      <td>2340</td>\n",
       "      <td>2546</td>\n",
       "      <td>100.0</td>\n",
       "      <td>360.0</td>\n",
       "      <td>NaN</td>\n",
       "      <td>Urban</td>\n",
       "    </tr>\n",
       "    <tr>\n",
       "      <th>4</th>\n",
       "      <td>LP001051</td>\n",
       "      <td>Male</td>\n",
       "      <td>No</td>\n",
       "      <td>0</td>\n",
       "      <td>Not Graduate</td>\n",
       "      <td>No</td>\n",
       "      <td>3276</td>\n",
       "      <td>0</td>\n",
       "      <td>78.0</td>\n",
       "      <td>360.0</td>\n",
       "      <td>1.0</td>\n",
       "      <td>Urban</td>\n",
       "    </tr>\n",
       "    <tr>\n",
       "      <th>...</th>\n",
       "      <td>...</td>\n",
       "      <td>...</td>\n",
       "      <td>...</td>\n",
       "      <td>...</td>\n",
       "      <td>...</td>\n",
       "      <td>...</td>\n",
       "      <td>...</td>\n",
       "      <td>...</td>\n",
       "      <td>...</td>\n",
       "      <td>...</td>\n",
       "      <td>...</td>\n",
       "      <td>...</td>\n",
       "    </tr>\n",
       "    <tr>\n",
       "      <th>362</th>\n",
       "      <td>LP002971</td>\n",
       "      <td>Male</td>\n",
       "      <td>Yes</td>\n",
       "      <td>3+</td>\n",
       "      <td>Not Graduate</td>\n",
       "      <td>Yes</td>\n",
       "      <td>4009</td>\n",
       "      <td>1777</td>\n",
       "      <td>113.0</td>\n",
       "      <td>360.0</td>\n",
       "      <td>1.0</td>\n",
       "      <td>Urban</td>\n",
       "    </tr>\n",
       "    <tr>\n",
       "      <th>363</th>\n",
       "      <td>LP002975</td>\n",
       "      <td>Male</td>\n",
       "      <td>Yes</td>\n",
       "      <td>0</td>\n",
       "      <td>Graduate</td>\n",
       "      <td>No</td>\n",
       "      <td>4158</td>\n",
       "      <td>709</td>\n",
       "      <td>115.0</td>\n",
       "      <td>360.0</td>\n",
       "      <td>1.0</td>\n",
       "      <td>Urban</td>\n",
       "    </tr>\n",
       "    <tr>\n",
       "      <th>364</th>\n",
       "      <td>LP002980</td>\n",
       "      <td>Male</td>\n",
       "      <td>No</td>\n",
       "      <td>0</td>\n",
       "      <td>Graduate</td>\n",
       "      <td>No</td>\n",
       "      <td>3250</td>\n",
       "      <td>1993</td>\n",
       "      <td>126.0</td>\n",
       "      <td>360.0</td>\n",
       "      <td>NaN</td>\n",
       "      <td>Semiurban</td>\n",
       "    </tr>\n",
       "    <tr>\n",
       "      <th>365</th>\n",
       "      <td>LP002986</td>\n",
       "      <td>Male</td>\n",
       "      <td>Yes</td>\n",
       "      <td>0</td>\n",
       "      <td>Graduate</td>\n",
       "      <td>No</td>\n",
       "      <td>5000</td>\n",
       "      <td>2393</td>\n",
       "      <td>158.0</td>\n",
       "      <td>360.0</td>\n",
       "      <td>1.0</td>\n",
       "      <td>Rural</td>\n",
       "    </tr>\n",
       "    <tr>\n",
       "      <th>366</th>\n",
       "      <td>LP002989</td>\n",
       "      <td>Male</td>\n",
       "      <td>No</td>\n",
       "      <td>0</td>\n",
       "      <td>Graduate</td>\n",
       "      <td>Yes</td>\n",
       "      <td>9200</td>\n",
       "      <td>0</td>\n",
       "      <td>98.0</td>\n",
       "      <td>180.0</td>\n",
       "      <td>1.0</td>\n",
       "      <td>Rural</td>\n",
       "    </tr>\n",
       "  </tbody>\n",
       "</table>\n",
       "<p>367 rows × 12 columns</p>\n",
       "</div>"
      ],
      "text/plain": [
       "      Loan_ID Gender Married Dependents     Education Self_Employed  \\\n",
       "0    LP001015   Male     Yes          0      Graduate            No   \n",
       "1    LP001022   Male     Yes          1      Graduate            No   \n",
       "2    LP001031   Male     Yes          2      Graduate            No   \n",
       "3    LP001035   Male     Yes          2      Graduate            No   \n",
       "4    LP001051   Male      No          0  Not Graduate            No   \n",
       "..        ...    ...     ...        ...           ...           ...   \n",
       "362  LP002971   Male     Yes         3+  Not Graduate           Yes   \n",
       "363  LP002975   Male     Yes          0      Graduate            No   \n",
       "364  LP002980   Male      No          0      Graduate            No   \n",
       "365  LP002986   Male     Yes          0      Graduate            No   \n",
       "366  LP002989   Male      No          0      Graduate           Yes   \n",
       "\n",
       "     ApplicantIncome  CoapplicantIncome  LoanAmount  Loan_Amount_Term  \\\n",
       "0               5720                  0       110.0             360.0   \n",
       "1               3076               1500       126.0             360.0   \n",
       "2               5000               1800       208.0             360.0   \n",
       "3               2340               2546       100.0             360.0   \n",
       "4               3276                  0        78.0             360.0   \n",
       "..               ...                ...         ...               ...   \n",
       "362             4009               1777       113.0             360.0   \n",
       "363             4158                709       115.0             360.0   \n",
       "364             3250               1993       126.0             360.0   \n",
       "365             5000               2393       158.0             360.0   \n",
       "366             9200                  0        98.0             180.0   \n",
       "\n",
       "     Credit_History Property_Area  \n",
       "0               1.0         Urban  \n",
       "1               1.0         Urban  \n",
       "2               1.0         Urban  \n",
       "3               NaN         Urban  \n",
       "4               1.0         Urban  \n",
       "..              ...           ...  \n",
       "362             1.0         Urban  \n",
       "363             1.0         Urban  \n",
       "364             NaN     Semiurban  \n",
       "365             1.0         Rural  \n",
       "366             1.0         Rural  \n",
       "\n",
       "[367 rows x 12 columns]"
      ]
     },
     "execution_count": 2,
     "metadata": {},
     "output_type": "execute_result"
    }
   ],
   "source": [
    "loan=pd.read_csv(\"loan.csv\")\n",
    "loan"
   ]
  },
  {
   "cell_type": "markdown",
   "id": "0ab82c33-954c-4ee0-a20f-e28dd7e0e9ac",
   "metadata": {},
   "source": [
    "----"
   ]
  },
  {
   "cell_type": "markdown",
   "id": "32f45759-cc5c-40c9-9f64-f4af3673d6f4",
   "metadata": {},
   "source": [
    "1. Data Understanding.\n",
    "\n",
    "     --  shape()                \n",
    "\n",
    "     --  head()\n",
    "\n",
    "     --  tail()                \n",
    "\n",
    "     --  info()\n",
    "\n",
    "     --  describe()"
   ]
  },
  {
   "cell_type": "code",
   "execution_count": 3,
   "id": "201beea3-9732-4d80-97fb-647a1006b7e8",
   "metadata": {},
   "outputs": [
    {
     "name": "stdout",
     "output_type": "stream",
     "text": [
      "Initial shape: (367, 12)\n"
     ]
    }
   ],
   "source": [
    "print('Initial shape:',loan.shape)"
   ]
  },
  {
   "cell_type": "code",
   "execution_count": 4,
   "id": "0986991e-daf2-43a3-a89c-7e3aa4fd0ee5",
   "metadata": {},
   "outputs": [
    {
     "data": {
      "text/html": [
       "<div>\n",
       "<style scoped>\n",
       "    .dataframe tbody tr th:only-of-type {\n",
       "        vertical-align: middle;\n",
       "    }\n",
       "\n",
       "    .dataframe tbody tr th {\n",
       "        vertical-align: top;\n",
       "    }\n",
       "\n",
       "    .dataframe thead th {\n",
       "        text-align: right;\n",
       "    }\n",
       "</style>\n",
       "<table border=\"1\" class=\"dataframe\">\n",
       "  <thead>\n",
       "    <tr style=\"text-align: right;\">\n",
       "      <th></th>\n",
       "      <th>Loan_ID</th>\n",
       "      <th>Gender</th>\n",
       "      <th>Married</th>\n",
       "      <th>Dependents</th>\n",
       "      <th>Education</th>\n",
       "      <th>Self_Employed</th>\n",
       "      <th>ApplicantIncome</th>\n",
       "      <th>CoapplicantIncome</th>\n",
       "      <th>LoanAmount</th>\n",
       "      <th>Loan_Amount_Term</th>\n",
       "      <th>Credit_History</th>\n",
       "      <th>Property_Area</th>\n",
       "    </tr>\n",
       "  </thead>\n",
       "  <tbody>\n",
       "    <tr>\n",
       "      <th>0</th>\n",
       "      <td>LP001015</td>\n",
       "      <td>Male</td>\n",
       "      <td>Yes</td>\n",
       "      <td>0</td>\n",
       "      <td>Graduate</td>\n",
       "      <td>No</td>\n",
       "      <td>5720</td>\n",
       "      <td>0</td>\n",
       "      <td>110.0</td>\n",
       "      <td>360.0</td>\n",
       "      <td>1.0</td>\n",
       "      <td>Urban</td>\n",
       "    </tr>\n",
       "    <tr>\n",
       "      <th>1</th>\n",
       "      <td>LP001022</td>\n",
       "      <td>Male</td>\n",
       "      <td>Yes</td>\n",
       "      <td>1</td>\n",
       "      <td>Graduate</td>\n",
       "      <td>No</td>\n",
       "      <td>3076</td>\n",
       "      <td>1500</td>\n",
       "      <td>126.0</td>\n",
       "      <td>360.0</td>\n",
       "      <td>1.0</td>\n",
       "      <td>Urban</td>\n",
       "    </tr>\n",
       "    <tr>\n",
       "      <th>2</th>\n",
       "      <td>LP001031</td>\n",
       "      <td>Male</td>\n",
       "      <td>Yes</td>\n",
       "      <td>2</td>\n",
       "      <td>Graduate</td>\n",
       "      <td>No</td>\n",
       "      <td>5000</td>\n",
       "      <td>1800</td>\n",
       "      <td>208.0</td>\n",
       "      <td>360.0</td>\n",
       "      <td>1.0</td>\n",
       "      <td>Urban</td>\n",
       "    </tr>\n",
       "  </tbody>\n",
       "</table>\n",
       "</div>"
      ],
      "text/plain": [
       "    Loan_ID Gender Married Dependents Education Self_Employed  \\\n",
       "0  LP001015   Male     Yes          0  Graduate            No   \n",
       "1  LP001022   Male     Yes          1  Graduate            No   \n",
       "2  LP001031   Male     Yes          2  Graduate            No   \n",
       "\n",
       "   ApplicantIncome  CoapplicantIncome  LoanAmount  Loan_Amount_Term  \\\n",
       "0             5720                  0       110.0             360.0   \n",
       "1             3076               1500       126.0             360.0   \n",
       "2             5000               1800       208.0             360.0   \n",
       "\n",
       "   Credit_History Property_Area  \n",
       "0             1.0         Urban  \n",
       "1             1.0         Urban  \n",
       "2             1.0         Urban  "
      ]
     },
     "execution_count": 4,
     "metadata": {},
     "output_type": "execute_result"
    }
   ],
   "source": [
    "loan.head(3)"
   ]
  },
  {
   "cell_type": "code",
   "execution_count": 5,
   "id": "6687a93f-7217-4755-ab29-ed73602fab55",
   "metadata": {},
   "outputs": [
    {
     "data": {
      "text/html": [
       "<div>\n",
       "<style scoped>\n",
       "    .dataframe tbody tr th:only-of-type {\n",
       "        vertical-align: middle;\n",
       "    }\n",
       "\n",
       "    .dataframe tbody tr th {\n",
       "        vertical-align: top;\n",
       "    }\n",
       "\n",
       "    .dataframe thead th {\n",
       "        text-align: right;\n",
       "    }\n",
       "</style>\n",
       "<table border=\"1\" class=\"dataframe\">\n",
       "  <thead>\n",
       "    <tr style=\"text-align: right;\">\n",
       "      <th></th>\n",
       "      <th>Loan_ID</th>\n",
       "      <th>Gender</th>\n",
       "      <th>Married</th>\n",
       "      <th>Dependents</th>\n",
       "      <th>Education</th>\n",
       "      <th>Self_Employed</th>\n",
       "      <th>ApplicantIncome</th>\n",
       "      <th>CoapplicantIncome</th>\n",
       "      <th>LoanAmount</th>\n",
       "      <th>Loan_Amount_Term</th>\n",
       "      <th>Credit_History</th>\n",
       "      <th>Property_Area</th>\n",
       "    </tr>\n",
       "  </thead>\n",
       "  <tbody>\n",
       "    <tr>\n",
       "      <th>364</th>\n",
       "      <td>LP002980</td>\n",
       "      <td>Male</td>\n",
       "      <td>No</td>\n",
       "      <td>0</td>\n",
       "      <td>Graduate</td>\n",
       "      <td>No</td>\n",
       "      <td>3250</td>\n",
       "      <td>1993</td>\n",
       "      <td>126.0</td>\n",
       "      <td>360.0</td>\n",
       "      <td>NaN</td>\n",
       "      <td>Semiurban</td>\n",
       "    </tr>\n",
       "    <tr>\n",
       "      <th>365</th>\n",
       "      <td>LP002986</td>\n",
       "      <td>Male</td>\n",
       "      <td>Yes</td>\n",
       "      <td>0</td>\n",
       "      <td>Graduate</td>\n",
       "      <td>No</td>\n",
       "      <td>5000</td>\n",
       "      <td>2393</td>\n",
       "      <td>158.0</td>\n",
       "      <td>360.0</td>\n",
       "      <td>1.0</td>\n",
       "      <td>Rural</td>\n",
       "    </tr>\n",
       "    <tr>\n",
       "      <th>366</th>\n",
       "      <td>LP002989</td>\n",
       "      <td>Male</td>\n",
       "      <td>No</td>\n",
       "      <td>0</td>\n",
       "      <td>Graduate</td>\n",
       "      <td>Yes</td>\n",
       "      <td>9200</td>\n",
       "      <td>0</td>\n",
       "      <td>98.0</td>\n",
       "      <td>180.0</td>\n",
       "      <td>1.0</td>\n",
       "      <td>Rural</td>\n",
       "    </tr>\n",
       "  </tbody>\n",
       "</table>\n",
       "</div>"
      ],
      "text/plain": [
       "      Loan_ID Gender Married Dependents Education Self_Employed  \\\n",
       "364  LP002980   Male      No          0  Graduate            No   \n",
       "365  LP002986   Male     Yes          0  Graduate            No   \n",
       "366  LP002989   Male      No          0  Graduate           Yes   \n",
       "\n",
       "     ApplicantIncome  CoapplicantIncome  LoanAmount  Loan_Amount_Term  \\\n",
       "364             3250               1993       126.0             360.0   \n",
       "365             5000               2393       158.0             360.0   \n",
       "366             9200                  0        98.0             180.0   \n",
       "\n",
       "     Credit_History Property_Area  \n",
       "364             NaN     Semiurban  \n",
       "365             1.0         Rural  \n",
       "366             1.0         Rural  "
      ]
     },
     "execution_count": 5,
     "metadata": {},
     "output_type": "execute_result"
    }
   ],
   "source": [
    "loan.tail(3)"
   ]
  },
  {
   "cell_type": "code",
   "execution_count": 6,
   "id": "e1ad48ac-c791-41ae-849b-8fd5e0a8303a",
   "metadata": {},
   "outputs": [
    {
     "data": {
      "text/html": [
       "<div>\n",
       "<style scoped>\n",
       "    .dataframe tbody tr th:only-of-type {\n",
       "        vertical-align: middle;\n",
       "    }\n",
       "\n",
       "    .dataframe tbody tr th {\n",
       "        vertical-align: top;\n",
       "    }\n",
       "\n",
       "    .dataframe thead th {\n",
       "        text-align: right;\n",
       "    }\n",
       "</style>\n",
       "<table border=\"1\" class=\"dataframe\">\n",
       "  <thead>\n",
       "    <tr style=\"text-align: right;\">\n",
       "      <th></th>\n",
       "      <th>ApplicantIncome</th>\n",
       "      <th>CoapplicantIncome</th>\n",
       "      <th>LoanAmount</th>\n",
       "      <th>Loan_Amount_Term</th>\n",
       "      <th>Credit_History</th>\n",
       "    </tr>\n",
       "  </thead>\n",
       "  <tbody>\n",
       "    <tr>\n",
       "      <th>count</th>\n",
       "      <td>367.000000</td>\n",
       "      <td>367.000000</td>\n",
       "      <td>362.000000</td>\n",
       "      <td>361.000000</td>\n",
       "      <td>338.000000</td>\n",
       "    </tr>\n",
       "    <tr>\n",
       "      <th>mean</th>\n",
       "      <td>4805.599455</td>\n",
       "      <td>1569.577657</td>\n",
       "      <td>136.132597</td>\n",
       "      <td>342.537396</td>\n",
       "      <td>0.825444</td>\n",
       "    </tr>\n",
       "    <tr>\n",
       "      <th>std</th>\n",
       "      <td>4910.685399</td>\n",
       "      <td>2334.232099</td>\n",
       "      <td>61.366652</td>\n",
       "      <td>65.156643</td>\n",
       "      <td>0.380150</td>\n",
       "    </tr>\n",
       "    <tr>\n",
       "      <th>min</th>\n",
       "      <td>0.000000</td>\n",
       "      <td>0.000000</td>\n",
       "      <td>28.000000</td>\n",
       "      <td>6.000000</td>\n",
       "      <td>0.000000</td>\n",
       "    </tr>\n",
       "    <tr>\n",
       "      <th>25%</th>\n",
       "      <td>2864.000000</td>\n",
       "      <td>0.000000</td>\n",
       "      <td>100.250000</td>\n",
       "      <td>360.000000</td>\n",
       "      <td>1.000000</td>\n",
       "    </tr>\n",
       "    <tr>\n",
       "      <th>50%</th>\n",
       "      <td>3786.000000</td>\n",
       "      <td>1025.000000</td>\n",
       "      <td>125.000000</td>\n",
       "      <td>360.000000</td>\n",
       "      <td>1.000000</td>\n",
       "    </tr>\n",
       "    <tr>\n",
       "      <th>75%</th>\n",
       "      <td>5060.000000</td>\n",
       "      <td>2430.500000</td>\n",
       "      <td>158.000000</td>\n",
       "      <td>360.000000</td>\n",
       "      <td>1.000000</td>\n",
       "    </tr>\n",
       "    <tr>\n",
       "      <th>max</th>\n",
       "      <td>72529.000000</td>\n",
       "      <td>24000.000000</td>\n",
       "      <td>550.000000</td>\n",
       "      <td>480.000000</td>\n",
       "      <td>1.000000</td>\n",
       "    </tr>\n",
       "  </tbody>\n",
       "</table>\n",
       "</div>"
      ],
      "text/plain": [
       "       ApplicantIncome  CoapplicantIncome  LoanAmount  Loan_Amount_Term  \\\n",
       "count       367.000000         367.000000  362.000000        361.000000   \n",
       "mean       4805.599455        1569.577657  136.132597        342.537396   \n",
       "std        4910.685399        2334.232099   61.366652         65.156643   \n",
       "min           0.000000           0.000000   28.000000          6.000000   \n",
       "25%        2864.000000           0.000000  100.250000        360.000000   \n",
       "50%        3786.000000        1025.000000  125.000000        360.000000   \n",
       "75%        5060.000000        2430.500000  158.000000        360.000000   \n",
       "max       72529.000000       24000.000000  550.000000        480.000000   \n",
       "\n",
       "       Credit_History  \n",
       "count      338.000000  \n",
       "mean         0.825444  \n",
       "std          0.380150  \n",
       "min          0.000000  \n",
       "25%          1.000000  \n",
       "50%          1.000000  \n",
       "75%          1.000000  \n",
       "max          1.000000  "
      ]
     },
     "execution_count": 6,
     "metadata": {},
     "output_type": "execute_result"
    }
   ],
   "source": [
    "loan.describe()"
   ]
  },
  {
   "cell_type": "code",
   "execution_count": 7,
   "id": "7818de71-efc9-41ea-8f33-e6b3f76b3ac0",
   "metadata": {},
   "outputs": [
    {
     "name": "stdout",
     "output_type": "stream",
     "text": [
      "<class 'pandas.core.frame.DataFrame'>\n",
      "RangeIndex: 367 entries, 0 to 366\n",
      "Data columns (total 12 columns):\n",
      " #   Column             Non-Null Count  Dtype  \n",
      "---  ------             --------------  -----  \n",
      " 0   Loan_ID            367 non-null    object \n",
      " 1   Gender             356 non-null    object \n",
      " 2   Married            367 non-null    object \n",
      " 3   Dependents         357 non-null    object \n",
      " 4   Education          367 non-null    object \n",
      " 5   Self_Employed      344 non-null    object \n",
      " 6   ApplicantIncome    367 non-null    int64  \n",
      " 7   CoapplicantIncome  367 non-null    int64  \n",
      " 8   LoanAmount         362 non-null    float64\n",
      " 9   Loan_Amount_Term   361 non-null    float64\n",
      " 10  Credit_History     338 non-null    float64\n",
      " 11  Property_Area      367 non-null    object \n",
      "dtypes: float64(3), int64(2), object(7)\n",
      "memory usage: 34.5+ KB\n"
     ]
    }
   ],
   "source": [
    "loan.info()"
   ]
  },
  {
   "cell_type": "markdown",
   "id": "61ca65ee-6743-4bb8-969c-8cc8d026d644",
   "metadata": {},
   "source": [
    "----"
   ]
  },
  {
   "cell_type": "markdown",
   "id": "16ffa356-b548-4692-aff0-0aa9fc30b161",
   "metadata": {},
   "source": [
    "2. Data Cleaning.\n",
    "\n",
    "    - Remove duplicates\n",
    "\n",
    "    - Handle missing values\n",
    "\n",
    "    - Fix incorrect data types\n",
    "\n",
    "    - Standardize categorical text\n",
    "\n",
    "    - Remove or handle outliers\n",
    "\n",
    "    - Create new features "
   ]
  },
  {
   "cell_type": "markdown",
   "id": "277d6e94-3b02-4b31-a95f-adc6d1b6558c",
   "metadata": {},
   "source": [
    "----"
   ]
  },
  {
   "cell_type": "markdown",
   "id": "9ecd684c-b5a0-46c1-9bef-217a40ade71d",
   "metadata": {},
   "source": [
    "REMOVE DUPLICATES"
   ]
  },
  {
   "cell_type": "code",
   "execution_count": 8,
   "id": "e1541a92-eeaf-4174-be7a-eead6f325938",
   "metadata": {},
   "outputs": [
    {
     "data": {
      "text/plain": [
       "np.int64(0)"
      ]
     },
     "execution_count": 8,
     "metadata": {},
     "output_type": "execute_result"
    }
   ],
   "source": [
    "loan.duplicated().sum()"
   ]
  },
  {
   "cell_type": "code",
   "execution_count": 9,
   "id": "7cd77b6c-70aa-4fa5-a614-50c64556cc8b",
   "metadata": {},
   "outputs": [
    {
     "data": {
      "text/plain": [
       "Index(['Loan_ID', 'Gender', 'Married', 'Dependents', 'Education',\n",
       "       'Self_Employed', 'Applicant_Income', 'Co-applicant_Income',\n",
       "       'Loan_Amount', 'Loan_Amount_Term', 'Credit_History', 'Property_Area'],\n",
       "      dtype='object')"
      ]
     },
     "execution_count": 9,
     "metadata": {},
     "output_type": "execute_result"
    }
   ],
   "source": [
    "loan.rename(columns={'ApplicantIncome':'Applicant_Income','CoapplicantIncome':'Co-applicant_Income','LoanAmount':'Loan_Amount'},inplace=True)\n",
    "loan.columns"
   ]
  },
  {
   "cell_type": "code",
   "execution_count": 10,
   "id": "f905580d-e1b0-4154-aa4a-846e3e668340",
   "metadata": {},
   "outputs": [
    {
     "data": {
      "text/plain": [
       "(367, 11)"
      ]
     },
     "execution_count": 10,
     "metadata": {},
     "output_type": "execute_result"
    }
   ],
   "source": [
    "loan.drop(\"Loan_ID\",axis=1,inplace=True)\n",
    "loan.shape"
   ]
  },
  {
   "cell_type": "code",
   "execution_count": 11,
   "id": "fa839db7-fe08-4a8c-b73c-c32b4fa0018b",
   "metadata": {},
   "outputs": [],
   "source": [
    "loan['Dependents'] = loan['Dependents'].replace('3+', 3)"
   ]
  },
  {
   "cell_type": "code",
   "execution_count": 12,
   "id": "e928aaba-e22e-417a-9ef5-7db769a48d9a",
   "metadata": {},
   "outputs": [],
   "source": [
    "loan['Credit_History'] = loan['Credit_History'].map({1: 'Good', 0: 'Bad'})"
   ]
  },
  {
   "cell_type": "code",
   "execution_count": 13,
   "id": "345e9580-b300-4277-bec3-e97a81049f76",
   "metadata": {},
   "outputs": [
    {
     "data": {
      "text/html": [
       "<div>\n",
       "<style scoped>\n",
       "    .dataframe tbody tr th:only-of-type {\n",
       "        vertical-align: middle;\n",
       "    }\n",
       "\n",
       "    .dataframe tbody tr th {\n",
       "        vertical-align: top;\n",
       "    }\n",
       "\n",
       "    .dataframe thead th {\n",
       "        text-align: right;\n",
       "    }\n",
       "</style>\n",
       "<table border=\"1\" class=\"dataframe\">\n",
       "  <thead>\n",
       "    <tr style=\"text-align: right;\">\n",
       "      <th></th>\n",
       "      <th>Gender</th>\n",
       "      <th>Married</th>\n",
       "      <th>Dependents</th>\n",
       "      <th>Education</th>\n",
       "      <th>Self_Employed</th>\n",
       "      <th>Applicant_Income</th>\n",
       "      <th>Co-applicant_Income</th>\n",
       "      <th>Loan_Amount</th>\n",
       "      <th>Loan_Amount_Term</th>\n",
       "      <th>Credit_History</th>\n",
       "      <th>Property_Area</th>\n",
       "    </tr>\n",
       "  </thead>\n",
       "  <tbody>\n",
       "    <tr>\n",
       "      <th>0</th>\n",
       "      <td>Male</td>\n",
       "      <td>Yes</td>\n",
       "      <td>0</td>\n",
       "      <td>Graduate</td>\n",
       "      <td>No</td>\n",
       "      <td>5720</td>\n",
       "      <td>0</td>\n",
       "      <td>110.0</td>\n",
       "      <td>360.0</td>\n",
       "      <td>Good</td>\n",
       "      <td>Urban</td>\n",
       "    </tr>\n",
       "    <tr>\n",
       "      <th>1</th>\n",
       "      <td>Male</td>\n",
       "      <td>Yes</td>\n",
       "      <td>1</td>\n",
       "      <td>Graduate</td>\n",
       "      <td>No</td>\n",
       "      <td>3076</td>\n",
       "      <td>1500</td>\n",
       "      <td>126.0</td>\n",
       "      <td>360.0</td>\n",
       "      <td>Good</td>\n",
       "      <td>Urban</td>\n",
       "    </tr>\n",
       "    <tr>\n",
       "      <th>2</th>\n",
       "      <td>Male</td>\n",
       "      <td>Yes</td>\n",
       "      <td>2</td>\n",
       "      <td>Graduate</td>\n",
       "      <td>No</td>\n",
       "      <td>5000</td>\n",
       "      <td>1800</td>\n",
       "      <td>208.0</td>\n",
       "      <td>360.0</td>\n",
       "      <td>Good</td>\n",
       "      <td>Urban</td>\n",
       "    </tr>\n",
       "    <tr>\n",
       "      <th>3</th>\n",
       "      <td>Male</td>\n",
       "      <td>Yes</td>\n",
       "      <td>2</td>\n",
       "      <td>Graduate</td>\n",
       "      <td>No</td>\n",
       "      <td>2340</td>\n",
       "      <td>2546</td>\n",
       "      <td>100.0</td>\n",
       "      <td>360.0</td>\n",
       "      <td>NaN</td>\n",
       "      <td>Urban</td>\n",
       "    </tr>\n",
       "    <tr>\n",
       "      <th>4</th>\n",
       "      <td>Male</td>\n",
       "      <td>No</td>\n",
       "      <td>0</td>\n",
       "      <td>Not Graduate</td>\n",
       "      <td>No</td>\n",
       "      <td>3276</td>\n",
       "      <td>0</td>\n",
       "      <td>78.0</td>\n",
       "      <td>360.0</td>\n",
       "      <td>Good</td>\n",
       "      <td>Urban</td>\n",
       "    </tr>\n",
       "  </tbody>\n",
       "</table>\n",
       "</div>"
      ],
      "text/plain": [
       "  Gender Married Dependents     Education Self_Employed  Applicant_Income  \\\n",
       "0   Male     Yes          0      Graduate            No              5720   \n",
       "1   Male     Yes          1      Graduate            No              3076   \n",
       "2   Male     Yes          2      Graduate            No              5000   \n",
       "3   Male     Yes          2      Graduate            No              2340   \n",
       "4   Male      No          0  Not Graduate            No              3276   \n",
       "\n",
       "   Co-applicant_Income  Loan_Amount  Loan_Amount_Term Credit_History  \\\n",
       "0                    0        110.0             360.0           Good   \n",
       "1                 1500        126.0             360.0           Good   \n",
       "2                 1800        208.0             360.0           Good   \n",
       "3                 2546        100.0             360.0            NaN   \n",
       "4                    0         78.0             360.0           Good   \n",
       "\n",
       "  Property_Area  \n",
       "0         Urban  \n",
       "1         Urban  \n",
       "2         Urban  \n",
       "3         Urban  \n",
       "4         Urban  "
      ]
     },
     "execution_count": 13,
     "metadata": {},
     "output_type": "execute_result"
    }
   ],
   "source": [
    "loan.head()"
   ]
  },
  {
   "cell_type": "markdown",
   "id": "a6d5605e-7cdc-4d0a-9314-6df08b6b6032",
   "metadata": {},
   "source": [
    "----"
   ]
  },
  {
   "attachments": {},
   "cell_type": "markdown",
   "id": "5d5a039d-b208-42cd-b568-a9aa9a84a80d",
   "metadata": {},
   "source": [
    "HANDLING MISSING VALUES"
   ]
  },
  {
   "cell_type": "code",
   "execution_count": 14,
   "id": "3ac05ccf-a96b-4558-b6a2-a86a9b98d98c",
   "metadata": {},
   "outputs": [
    {
     "data": {
      "text/plain": [
       "np.int64(84)"
      ]
     },
     "execution_count": 14,
     "metadata": {},
     "output_type": "execute_result"
    }
   ],
   "source": [
    "loan.isnull().sum().sum()"
   ]
  },
  {
   "cell_type": "code",
   "execution_count": 15,
   "id": "d9d3b045-66bd-4b3e-9d5a-d0bdb799815c",
   "metadata": {},
   "outputs": [
    {
     "data": {
      "text/plain": [
       "Gender                 11\n",
       "Married                 0\n",
       "Dependents             10\n",
       "Education               0\n",
       "Self_Employed          23\n",
       "Applicant_Income        0\n",
       "Co-applicant_Income     0\n",
       "Loan_Amount             5\n",
       "Loan_Amount_Term        6\n",
       "Credit_History         29\n",
       "Property_Area           0\n",
       "dtype: int64"
      ]
     },
     "execution_count": 15,
     "metadata": {},
     "output_type": "execute_result"
    }
   ],
   "source": [
    "loan.isnull().sum()"
   ]
  },
  {
   "cell_type": "markdown",
   "id": "af4fcc0a-463b-4e84-9ede-964f6d492b0e",
   "metadata": {},
   "source": [
    "--------"
   ]
  },
  {
   "cell_type": "markdown",
   "id": "7f7bd638-540e-4608-9667-77fe1991bcc9",
   "metadata": {},
   "source": [
    "FILLING NAN VALUES USING MODE AND MEDIAN"
   ]
  },
  {
   "cell_type": "code",
   "execution_count": 16,
   "id": "9bffae09-c194-4bd8-86ca-74c9a2d25bbe",
   "metadata": {},
   "outputs": [],
   "source": [
    "#Categorical columns\n",
    "c = ['Gender', 'Married', 'Dependents', 'Self_Employed', 'Credit_History']\n",
    "loan[c] = loan[c].apply(lambda x: x.fillna(x.mode()[0]))\n",
    "\n",
    "#Numeric columns\n",
    "n = ['Applicant_Income', 'Co-applicant_Income', 'Loan_Amount', 'Loan_Amount_Term']\n",
    "loan[n] = loan[n].apply(lambda x: x.fillna(x.median()))"
   ]
  },
  {
   "cell_type": "code",
   "execution_count": 17,
   "id": "8f44e684-8576-48a2-ac44-c2beb9bf5c4f",
   "metadata": {},
   "outputs": [
    {
     "data": {
      "text/plain": [
       "Gender                 0\n",
       "Married                0\n",
       "Dependents             0\n",
       "Education              0\n",
       "Self_Employed          0\n",
       "Applicant_Income       0\n",
       "Co-applicant_Income    0\n",
       "Loan_Amount            0\n",
       "Loan_Amount_Term       0\n",
       "Credit_History         0\n",
       "Property_Area          0\n",
       "dtype: int64"
      ]
     },
     "execution_count": 17,
     "metadata": {},
     "output_type": "execute_result"
    }
   ],
   "source": [
    "loan.isnull().sum()"
   ]
  },
  {
   "cell_type": "markdown",
   "id": "413db6d9-b6ab-43e0-81d8-4919ada8586b",
   "metadata": {},
   "source": [
    "------"
   ]
  },
  {
   "attachments": {},
   "cell_type": "markdown",
   "id": "dae56c6a-9a3a-4c10-8a61-e0f5e17954fd",
   "metadata": {},
   "source": [
    "\n",
    "FIXING INCORRECT DATATYPES.\n",
    "\n",
    "\n"
   ]
  },
  {
   "cell_type": "code",
   "execution_count": 18,
   "id": "0d6bf839-5496-4b2a-88e9-8c9a1c906c99",
   "metadata": {},
   "outputs": [],
   "source": [
    "loan['Dependents'] = loan['Dependents'].astype(int)\n",
    "loan['Applicant_Income'] = (loan['Applicant_Income']*1000).astype(int)\n",
    "loan['Co-applicant_Income'] = (loan['Co-applicant_Income'] *1000).astype(int)\n",
    "loan['Loan_Amount'] = (loan['Loan_Amount']*1000).astype(int)\n",
    "loan['Loan_Amount_Term'] = (loan['Loan_Amount_Term']/12).astype(int)"
   ]
  },
  {
   "cell_type": "markdown",
   "id": "35d8d00d-f5e6-4b71-8d13-1da61b2ebb3d",
   "metadata": {},
   "source": [
    "------"
   ]
  },
  {
   "cell_type": "markdown",
   "id": "6846b303-e1dc-4699-8a7a-68c862833009",
   "metadata": {},
   "source": [
    "FINAL OVERVIEW OF THE DATASET"
   ]
  },
  {
   "cell_type": "code",
   "execution_count": 19,
   "id": "301b9321-ffcc-4afc-a00a-33a40035341e",
   "metadata": {},
   "outputs": [
    {
     "data": {
      "text/html": [
       "<div>\n",
       "<style scoped>\n",
       "    .dataframe tbody tr th:only-of-type {\n",
       "        vertical-align: middle;\n",
       "    }\n",
       "\n",
       "    .dataframe tbody tr th {\n",
       "        vertical-align: top;\n",
       "    }\n",
       "\n",
       "    .dataframe thead th {\n",
       "        text-align: right;\n",
       "    }\n",
       "</style>\n",
       "<table border=\"1\" class=\"dataframe\">\n",
       "  <thead>\n",
       "    <tr style=\"text-align: right;\">\n",
       "      <th></th>\n",
       "      <th>Gender</th>\n",
       "      <th>Married</th>\n",
       "      <th>Dependents</th>\n",
       "      <th>Education</th>\n",
       "      <th>Self_Employed</th>\n",
       "      <th>Applicant_Income</th>\n",
       "      <th>Co-applicant_Income</th>\n",
       "      <th>Loan_Amount</th>\n",
       "      <th>Loan_Amount_Term</th>\n",
       "      <th>Credit_History</th>\n",
       "      <th>Property_Area</th>\n",
       "    </tr>\n",
       "  </thead>\n",
       "  <tbody>\n",
       "    <tr>\n",
       "      <th>0</th>\n",
       "      <td>Male</td>\n",
       "      <td>Yes</td>\n",
       "      <td>0</td>\n",
       "      <td>Graduate</td>\n",
       "      <td>No</td>\n",
       "      <td>5720000</td>\n",
       "      <td>0</td>\n",
       "      <td>110000</td>\n",
       "      <td>30</td>\n",
       "      <td>Good</td>\n",
       "      <td>Urban</td>\n",
       "    </tr>\n",
       "    <tr>\n",
       "      <th>1</th>\n",
       "      <td>Male</td>\n",
       "      <td>Yes</td>\n",
       "      <td>1</td>\n",
       "      <td>Graduate</td>\n",
       "      <td>No</td>\n",
       "      <td>3076000</td>\n",
       "      <td>1500000</td>\n",
       "      <td>126000</td>\n",
       "      <td>30</td>\n",
       "      <td>Good</td>\n",
       "      <td>Urban</td>\n",
       "    </tr>\n",
       "    <tr>\n",
       "      <th>2</th>\n",
       "      <td>Male</td>\n",
       "      <td>Yes</td>\n",
       "      <td>2</td>\n",
       "      <td>Graduate</td>\n",
       "      <td>No</td>\n",
       "      <td>5000000</td>\n",
       "      <td>1800000</td>\n",
       "      <td>208000</td>\n",
       "      <td>30</td>\n",
       "      <td>Good</td>\n",
       "      <td>Urban</td>\n",
       "    </tr>\n",
       "    <tr>\n",
       "      <th>3</th>\n",
       "      <td>Male</td>\n",
       "      <td>Yes</td>\n",
       "      <td>2</td>\n",
       "      <td>Graduate</td>\n",
       "      <td>No</td>\n",
       "      <td>2340000</td>\n",
       "      <td>2546000</td>\n",
       "      <td>100000</td>\n",
       "      <td>30</td>\n",
       "      <td>Good</td>\n",
       "      <td>Urban</td>\n",
       "    </tr>\n",
       "    <tr>\n",
       "      <th>4</th>\n",
       "      <td>Male</td>\n",
       "      <td>No</td>\n",
       "      <td>0</td>\n",
       "      <td>Not Graduate</td>\n",
       "      <td>No</td>\n",
       "      <td>3276000</td>\n",
       "      <td>0</td>\n",
       "      <td>78000</td>\n",
       "      <td>30</td>\n",
       "      <td>Good</td>\n",
       "      <td>Urban</td>\n",
       "    </tr>\n",
       "  </tbody>\n",
       "</table>\n",
       "</div>"
      ],
      "text/plain": [
       "  Gender Married  Dependents     Education Self_Employed  Applicant_Income  \\\n",
       "0   Male     Yes           0      Graduate            No           5720000   \n",
       "1   Male     Yes           1      Graduate            No           3076000   \n",
       "2   Male     Yes           2      Graduate            No           5000000   \n",
       "3   Male     Yes           2      Graduate            No           2340000   \n",
       "4   Male      No           0  Not Graduate            No           3276000   \n",
       "\n",
       "   Co-applicant_Income  Loan_Amount  Loan_Amount_Term Credit_History  \\\n",
       "0                    0       110000                30           Good   \n",
       "1              1500000       126000                30           Good   \n",
       "2              1800000       208000                30           Good   \n",
       "3              2546000       100000                30           Good   \n",
       "4                    0        78000                30           Good   \n",
       "\n",
       "  Property_Area  \n",
       "0         Urban  \n",
       "1         Urban  \n",
       "2         Urban  \n",
       "3         Urban  \n",
       "4         Urban  "
      ]
     },
     "execution_count": 19,
     "metadata": {},
     "output_type": "execute_result"
    }
   ],
   "source": [
    "loan.head()"
   ]
  },
  {
   "cell_type": "code",
   "execution_count": 20,
   "id": "69e263f6-55a2-4dbe-84d7-bd034991f7f4",
   "metadata": {},
   "outputs": [
    {
     "data": {
      "text/html": [
       "<div>\n",
       "<style scoped>\n",
       "    .dataframe tbody tr th:only-of-type {\n",
       "        vertical-align: middle;\n",
       "    }\n",
       "\n",
       "    .dataframe tbody tr th {\n",
       "        vertical-align: top;\n",
       "    }\n",
       "\n",
       "    .dataframe thead th {\n",
       "        text-align: right;\n",
       "    }\n",
       "</style>\n",
       "<table border=\"1\" class=\"dataframe\">\n",
       "  <thead>\n",
       "    <tr style=\"text-align: right;\">\n",
       "      <th></th>\n",
       "      <th>Gender</th>\n",
       "      <th>Married</th>\n",
       "      <th>Dependents</th>\n",
       "      <th>Education</th>\n",
       "      <th>Self_Employed</th>\n",
       "      <th>Applicant_Income</th>\n",
       "      <th>Co-applicant_Income</th>\n",
       "      <th>Loan_Amount</th>\n",
       "      <th>Loan_Amount_Term</th>\n",
       "      <th>Credit_History</th>\n",
       "      <th>Property_Area</th>\n",
       "    </tr>\n",
       "  </thead>\n",
       "  <tbody>\n",
       "    <tr>\n",
       "      <th>362</th>\n",
       "      <td>Male</td>\n",
       "      <td>Yes</td>\n",
       "      <td>3</td>\n",
       "      <td>Not Graduate</td>\n",
       "      <td>Yes</td>\n",
       "      <td>4009000</td>\n",
       "      <td>1777000</td>\n",
       "      <td>113000</td>\n",
       "      <td>30</td>\n",
       "      <td>Good</td>\n",
       "      <td>Urban</td>\n",
       "    </tr>\n",
       "    <tr>\n",
       "      <th>363</th>\n",
       "      <td>Male</td>\n",
       "      <td>Yes</td>\n",
       "      <td>0</td>\n",
       "      <td>Graduate</td>\n",
       "      <td>No</td>\n",
       "      <td>4158000</td>\n",
       "      <td>709000</td>\n",
       "      <td>115000</td>\n",
       "      <td>30</td>\n",
       "      <td>Good</td>\n",
       "      <td>Urban</td>\n",
       "    </tr>\n",
       "    <tr>\n",
       "      <th>364</th>\n",
       "      <td>Male</td>\n",
       "      <td>No</td>\n",
       "      <td>0</td>\n",
       "      <td>Graduate</td>\n",
       "      <td>No</td>\n",
       "      <td>3250000</td>\n",
       "      <td>1993000</td>\n",
       "      <td>126000</td>\n",
       "      <td>30</td>\n",
       "      <td>Good</td>\n",
       "      <td>Semiurban</td>\n",
       "    </tr>\n",
       "    <tr>\n",
       "      <th>365</th>\n",
       "      <td>Male</td>\n",
       "      <td>Yes</td>\n",
       "      <td>0</td>\n",
       "      <td>Graduate</td>\n",
       "      <td>No</td>\n",
       "      <td>5000000</td>\n",
       "      <td>2393000</td>\n",
       "      <td>158000</td>\n",
       "      <td>30</td>\n",
       "      <td>Good</td>\n",
       "      <td>Rural</td>\n",
       "    </tr>\n",
       "    <tr>\n",
       "      <th>366</th>\n",
       "      <td>Male</td>\n",
       "      <td>No</td>\n",
       "      <td>0</td>\n",
       "      <td>Graduate</td>\n",
       "      <td>Yes</td>\n",
       "      <td>9200000</td>\n",
       "      <td>0</td>\n",
       "      <td>98000</td>\n",
       "      <td>15</td>\n",
       "      <td>Good</td>\n",
       "      <td>Rural</td>\n",
       "    </tr>\n",
       "  </tbody>\n",
       "</table>\n",
       "</div>"
      ],
      "text/plain": [
       "    Gender Married  Dependents     Education Self_Employed  Applicant_Income  \\\n",
       "362   Male     Yes           3  Not Graduate           Yes           4009000   \n",
       "363   Male     Yes           0      Graduate            No           4158000   \n",
       "364   Male      No           0      Graduate            No           3250000   \n",
       "365   Male     Yes           0      Graduate            No           5000000   \n",
       "366   Male      No           0      Graduate           Yes           9200000   \n",
       "\n",
       "     Co-applicant_Income  Loan_Amount  Loan_Amount_Term Credit_History  \\\n",
       "362              1777000       113000                30           Good   \n",
       "363               709000       115000                30           Good   \n",
       "364              1993000       126000                30           Good   \n",
       "365              2393000       158000                30           Good   \n",
       "366                    0        98000                15           Good   \n",
       "\n",
       "    Property_Area  \n",
       "362         Urban  \n",
       "363         Urban  \n",
       "364     Semiurban  \n",
       "365         Rural  \n",
       "366         Rural  "
      ]
     },
     "execution_count": 20,
     "metadata": {},
     "output_type": "execute_result"
    }
   ],
   "source": [
    "loan.tail()"
   ]
  },
  {
   "cell_type": "code",
   "execution_count": 21,
   "id": "a55a077b-3a1d-4cf8-a6f3-9d19445789a9",
   "metadata": {},
   "outputs": [
    {
     "name": "stdout",
     "output_type": "stream",
     "text": [
      "<class 'pandas.core.frame.DataFrame'>\n",
      "RangeIndex: 367 entries, 0 to 366\n",
      "Data columns (total 11 columns):\n",
      " #   Column               Non-Null Count  Dtype \n",
      "---  ------               --------------  ----- \n",
      " 0   Gender               367 non-null    object\n",
      " 1   Married              367 non-null    object\n",
      " 2   Dependents           367 non-null    int64 \n",
      " 3   Education            367 non-null    object\n",
      " 4   Self_Employed        367 non-null    object\n",
      " 5   Applicant_Income     367 non-null    int64 \n",
      " 6   Co-applicant_Income  367 non-null    int64 \n",
      " 7   Loan_Amount          367 non-null    int64 \n",
      " 8   Loan_Amount_Term     367 non-null    int64 \n",
      " 9   Credit_History       367 non-null    object\n",
      " 10  Property_Area        367 non-null    object\n",
      "dtypes: int64(5), object(6)\n",
      "memory usage: 31.7+ KB\n"
     ]
    }
   ],
   "source": [
    "loan.info()"
   ]
  },
  {
   "cell_type": "code",
   "execution_count": 22,
   "id": "f374b62e-1df4-4500-bc8a-c3cb9f9ac1df",
   "metadata": {},
   "outputs": [
    {
     "data": {
      "text/html": [
       "<div>\n",
       "<style scoped>\n",
       "    .dataframe tbody tr th:only-of-type {\n",
       "        vertical-align: middle;\n",
       "    }\n",
       "\n",
       "    .dataframe tbody tr th {\n",
       "        vertical-align: top;\n",
       "    }\n",
       "\n",
       "    .dataframe thead th {\n",
       "        text-align: right;\n",
       "    }\n",
       "</style>\n",
       "<table border=\"1\" class=\"dataframe\">\n",
       "  <thead>\n",
       "    <tr style=\"text-align: right;\">\n",
       "      <th></th>\n",
       "      <th>Dependents</th>\n",
       "      <th>Applicant_Income</th>\n",
       "      <th>Co-applicant_Income</th>\n",
       "      <th>Loan_Amount</th>\n",
       "      <th>Loan_Amount_Term</th>\n",
       "    </tr>\n",
       "  </thead>\n",
       "  <tbody>\n",
       "    <tr>\n",
       "      <th>count</th>\n",
       "      <td>367.000000</td>\n",
       "      <td>3.670000e+02</td>\n",
       "      <td>3.670000e+02</td>\n",
       "      <td>367.000000</td>\n",
       "      <td>367.000000</td>\n",
       "    </tr>\n",
       "    <tr>\n",
       "      <th>mean</th>\n",
       "      <td>0.806540</td>\n",
       "      <td>4.805599e+06</td>\n",
       "      <td>1.569578e+06</td>\n",
       "      <td>135980.926431</td>\n",
       "      <td>28.566757</td>\n",
       "    </tr>\n",
       "    <tr>\n",
       "      <th>std</th>\n",
       "      <td>1.065177</td>\n",
       "      <td>4.910685e+06</td>\n",
       "      <td>2.334232e+06</td>\n",
       "      <td>60959.739166</td>\n",
       "      <td>5.395332</td>\n",
       "    </tr>\n",
       "    <tr>\n",
       "      <th>min</th>\n",
       "      <td>0.000000</td>\n",
       "      <td>0.000000e+00</td>\n",
       "      <td>0.000000e+00</td>\n",
       "      <td>28000.000000</td>\n",
       "      <td>0.000000</td>\n",
       "    </tr>\n",
       "    <tr>\n",
       "      <th>25%</th>\n",
       "      <td>0.000000</td>\n",
       "      <td>2.864000e+06</td>\n",
       "      <td>0.000000e+00</td>\n",
       "      <td>101000.000000</td>\n",
       "      <td>30.000000</td>\n",
       "    </tr>\n",
       "    <tr>\n",
       "      <th>50%</th>\n",
       "      <td>0.000000</td>\n",
       "      <td>3.786000e+06</td>\n",
       "      <td>1.025000e+06</td>\n",
       "      <td>125000.000000</td>\n",
       "      <td>30.000000</td>\n",
       "    </tr>\n",
       "    <tr>\n",
       "      <th>75%</th>\n",
       "      <td>2.000000</td>\n",
       "      <td>5.060000e+06</td>\n",
       "      <td>2.430500e+06</td>\n",
       "      <td>157500.000000</td>\n",
       "      <td>30.000000</td>\n",
       "    </tr>\n",
       "    <tr>\n",
       "      <th>max</th>\n",
       "      <td>3.000000</td>\n",
       "      <td>7.252900e+07</td>\n",
       "      <td>2.400000e+07</td>\n",
       "      <td>550000.000000</td>\n",
       "      <td>40.000000</td>\n",
       "    </tr>\n",
       "  </tbody>\n",
       "</table>\n",
       "</div>"
      ],
      "text/plain": [
       "       Dependents  Applicant_Income  Co-applicant_Income    Loan_Amount  \\\n",
       "count  367.000000      3.670000e+02         3.670000e+02     367.000000   \n",
       "mean     0.806540      4.805599e+06         1.569578e+06  135980.926431   \n",
       "std      1.065177      4.910685e+06         2.334232e+06   60959.739166   \n",
       "min      0.000000      0.000000e+00         0.000000e+00   28000.000000   \n",
       "25%      0.000000      2.864000e+06         0.000000e+00  101000.000000   \n",
       "50%      0.000000      3.786000e+06         1.025000e+06  125000.000000   \n",
       "75%      2.000000      5.060000e+06         2.430500e+06  157500.000000   \n",
       "max      3.000000      7.252900e+07         2.400000e+07  550000.000000   \n",
       "\n",
       "       Loan_Amount_Term  \n",
       "count        367.000000  \n",
       "mean          28.566757  \n",
       "std            5.395332  \n",
       "min            0.000000  \n",
       "25%           30.000000  \n",
       "50%           30.000000  \n",
       "75%           30.000000  \n",
       "max           40.000000  "
      ]
     },
     "execution_count": 22,
     "metadata": {},
     "output_type": "execute_result"
    }
   ],
   "source": [
    "loan.describe()"
   ]
  },
  {
   "cell_type": "markdown",
   "id": "7703f7ff-8ef3-4eea-8f14-8175092ea88c",
   "metadata": {},
   "source": [
    "-----"
   ]
  },
  {
   "cell_type": "markdown",
   "id": "e7252295-e54a-4ab3-a0db-05d35dfe789f",
   "metadata": {},
   "source": [
    "MEAN VALUES"
   ]
  },
  {
   "cell_type": "code",
   "execution_count": 23,
   "id": "0287a452-530a-4baf-b0aa-4c32e2610704",
   "metadata": {},
   "outputs": [
    {
     "name": "stdout",
     "output_type": "stream",
     "text": [
      "Mean values:\n",
      " Dependents             8.065395e-01\n",
      "Applicant_Income       4.805599e+06\n",
      "Co-applicant_Income    1.569578e+06\n",
      "Loan_Amount            1.359809e+05\n",
      "Loan_Amount_Term       2.856676e+01\n",
      "dtype: float64\n"
     ]
    }
   ],
   "source": [
    "print(\"Mean values:\\n\", loan.mean(numeric_only=True))"
   ]
  },
  {
   "cell_type": "markdown",
   "id": "8c809f4a-0b43-4206-b1a6-d15742c5373b",
   "metadata": {},
   "source": [
    "MEDIAN VALUES"
   ]
  },
  {
   "cell_type": "code",
   "execution_count": 24,
   "id": "1d2e0804-ca6f-4323-a2ad-3c659fd76646",
   "metadata": {},
   "outputs": [
    {
     "name": "stdout",
     "output_type": "stream",
     "text": [
      "\n",
      "Median values:\n",
      " Dependents                   0.0\n",
      "Applicant_Income       3786000.0\n",
      "Co-applicant_Income    1025000.0\n",
      "Loan_Amount             125000.0\n",
      "Loan_Amount_Term            30.0\n",
      "dtype: float64\n"
     ]
    }
   ],
   "source": [
    "print(\"\\nMedian values:\\n\", loan.median(numeric_only=True))"
   ]
  },
  {
   "cell_type": "markdown",
   "id": "ac0b3fda-7112-471e-b214-b2c83ae3aa08",
   "metadata": {},
   "source": [
    "MODE VALUES"
   ]
  },
  {
   "cell_type": "code",
   "execution_count": 25,
   "id": "befb6e97-5def-45f4-852c-be2c5365f247",
   "metadata": {},
   "outputs": [
    {
     "name": "stdout",
     "output_type": "stream",
     "text": [
      "\n",
      "Mode values:\n",
      " Gender                     Male\n",
      "Married                     Yes\n",
      "Dependents                  0.0\n",
      "Education              Graduate\n",
      "Self_Employed                No\n",
      "Applicant_Income        3500000\n",
      "Co-applicant_Income         0.0\n",
      "Loan_Amount            125000.0\n",
      "Loan_Amount_Term           30.0\n",
      "Credit_History             Good\n",
      "Property_Area             Urban\n",
      "Name: 0, dtype: object\n"
     ]
    }
   ],
   "source": [
    "print(\"\\nMode values:\\n\", loan.mode().iloc[0])"
   ]
  },
  {
   "cell_type": "markdown",
   "id": "23563782-52f4-4c51-8a80-0a31804c7a31",
   "metadata": {},
   "source": [
    "-------"
   ]
  },
  {
   "cell_type": "markdown",
   "id": "383cb4a8-71dd-4232-b465-4bea06cfd5cf",
   "metadata": {},
   "source": [
    "FINDING OUTLIERS"
   ]
  },
  {
   "cell_type": "code",
   "execution_count": 26,
   "id": "f001a1d8-15f1-4048-ac35-2a768102531c",
   "metadata": {},
   "outputs": [
    {
     "data": {
      "image/png": "[encoded data removed]",
      "text/plain": [
       "<Figure size 1500x600 with 1 Axes>"
      ]
     },
     "metadata": {},
     "output_type": "display_data"
    }
   ],
   "source": [
    "numerical_cols = ['Applicant_Income','Co-applicant_Income','Loan_Amount','Loan_Amount_Term']\n",
    "plt.figure(figsize=(15, 6))\n",
    "sns.boxplot(data=loan[numerical_cols])\n",
    "plt.title('Box Plots of Numerical Columns')\n",
    "plt.xticks()\n",
    "plt.show()"
   ]
  },
  {
   "cell_type": "markdown",
   "id": "e9310dde-d133-4d35-87f8-8d6091c35474",
   "metadata": {},
   "source": [
    "Applicant_Income.\n",
    "    \n",
    "    -- Applicants come from very different financial levels.\n",
    "    \n",
    "    -- Most applicants earn on the lower side, while a few earn very high salaries.\n",
    "\n",
    "    -- The median income is relatively low compared to the maximum values.\n",
    "\n",
    "    -- There are many applicants with extremely high incomes."
   ]
  },
  {
   "cell_type": "markdown",
   "id": "11f61466-0a16-4866-bd41-483de33071c7",
   "metadata": {},
   "source": [
    "Co-Applicant_Income.\n",
    "    \n",
    "    -- Majority of co-applicants have low or zero income.\n",
    "\n",
    "    -- There are outliers above ₹20 lakh, but they are very rare.\n",
    "\n",
    "    -- The distribution is right-skewed, with most values clustered at the bottom.\n",
    "\n",
    "    -- Median is much smaller than Applicant_Income, showing applicants are usually the main earners."
   ]
  },
  {
   "cell_type": "markdown",
   "id": "59e541cd-2804-4499-b0ef-a99aafb30641",
   "metadata": {},
   "source": [
    "LOAN_AMOUNT.\n",
    "    \n",
    "    -- Most loan amounts are within a small, regular range.\n",
    "\n",
    "    -- People take moderate loan amounts compared to their income.\n",
    "\n",
    "    -- Only a few people take very large loans.\n",
    "\n",
    "    -- Loan sizes don’t vary as widely as incomes.    "
   ]
  },
  {
   "cell_type": "markdown",
   "id": "c5099593-124e-4b29-ae50-21d42a5cb34c",
   "metadata": {},
   "source": [
    "LOAN_AMOUNT_TERM.\n",
    "\n",
    "    -- Most loans have similar repayment periods, often around 30 years.\n",
    "\n",
    "    -- Very few loans have very short or very long terms.\n",
    "\n",
    "    -- Repayment periods don’t vary much compared to incomes or loan amounts.\n",
    "\n",
    "    -- This shows banks usually offer fixed-term loans."
   ]
  },
  {
   "cell_type": "markdown",
   "id": "ccb3ce7f-4891-4528-aa92-ed2e8b03153d",
   "metadata": {},
   "source": [
    "-----"
   ]
  },
  {
   "cell_type": "markdown",
   "id": "4bf5b4f3-e419-460d-97a2-8f12b5577d88",
   "metadata": {},
   "source": [
    "CREATING NEW COLUMNS"
   ]
  },
  {
   "cell_type": "code",
   "execution_count": 27,
   "id": "f2f1f113-9fba-427b-bf63-8aef77c495ed",
   "metadata": {},
   "outputs": [],
   "source": [
    "loan['Total_Income'] = loan['Applicant_Income'] + loan['Co-applicant_Income']\n",
    "loan['EMI'] = loan['Loan_Amount'] / loan['Loan_Amount_Term']"
   ]
  },
  {
   "cell_type": "markdown",
   "id": "3c38e955-b8b1-48f7-b0cd-e5a4c862a6e1",
   "metadata": {},
   "source": [
    "------"
   ]
  },
  {
   "cell_type": "markdown",
   "id": "ca7169a6-ce30-40f7-a4a4-df5fbdf5d0fd",
   "metadata": {},
   "source": [
    "FIXING INCORRECT VALUES"
   ]
  },
  {
   "cell_type": "code",
   "execution_count": 28,
   "id": "faf58f90-e88f-42ad-9a95-60a2037221b0",
   "metadata": {},
   "outputs": [
    {
     "data": {
      "text/html": [
       "<div>\n",
       "<style scoped>\n",
       "    .dataframe tbody tr th:only-of-type {\n",
       "        vertical-align: middle;\n",
       "    }\n",
       "\n",
       "    .dataframe tbody tr th {\n",
       "        vertical-align: top;\n",
       "    }\n",
       "\n",
       "    .dataframe thead th {\n",
       "        text-align: right;\n",
       "    }\n",
       "</style>\n",
       "<table border=\"1\" class=\"dataframe\">\n",
       "  <thead>\n",
       "    <tr style=\"text-align: right;\">\n",
       "      <th></th>\n",
       "      <th>Gender</th>\n",
       "      <th>Married</th>\n",
       "      <th>Dependents</th>\n",
       "      <th>Education</th>\n",
       "      <th>Self_Employed</th>\n",
       "      <th>Applicant_Income</th>\n",
       "      <th>Co-applicant_Income</th>\n",
       "      <th>Loan_Amount</th>\n",
       "      <th>Loan_Amount_Term</th>\n",
       "      <th>Credit_History</th>\n",
       "      <th>Property_Area</th>\n",
       "      <th>Total_Income</th>\n",
       "      <th>EMI</th>\n",
       "    </tr>\n",
       "  </thead>\n",
       "  <tbody>\n",
       "    <tr>\n",
       "      <th>0</th>\n",
       "      <td>Male</td>\n",
       "      <td>Yes</td>\n",
       "      <td>0</td>\n",
       "      <td>Graduate</td>\n",
       "      <td>No</td>\n",
       "      <td>5720000</td>\n",
       "      <td>0</td>\n",
       "      <td>110000</td>\n",
       "      <td>30</td>\n",
       "      <td>Good</td>\n",
       "      <td>Urban</td>\n",
       "      <td>5720000</td>\n",
       "      <td>3666</td>\n",
       "    </tr>\n",
       "    <tr>\n",
       "      <th>1</th>\n",
       "      <td>Male</td>\n",
       "      <td>Yes</td>\n",
       "      <td>1</td>\n",
       "      <td>Graduate</td>\n",
       "      <td>No</td>\n",
       "      <td>3076000</td>\n",
       "      <td>1500000</td>\n",
       "      <td>126000</td>\n",
       "      <td>30</td>\n",
       "      <td>Good</td>\n",
       "      <td>Urban</td>\n",
       "      <td>4576000</td>\n",
       "      <td>4200</td>\n",
       "    </tr>\n",
       "    <tr>\n",
       "      <th>2</th>\n",
       "      <td>Male</td>\n",
       "      <td>Yes</td>\n",
       "      <td>2</td>\n",
       "      <td>Graduate</td>\n",
       "      <td>No</td>\n",
       "      <td>5000000</td>\n",
       "      <td>1800000</td>\n",
       "      <td>208000</td>\n",
       "      <td>30</td>\n",
       "      <td>Good</td>\n",
       "      <td>Urban</td>\n",
       "      <td>6800000</td>\n",
       "      <td>6933</td>\n",
       "    </tr>\n",
       "    <tr>\n",
       "      <th>3</th>\n",
       "      <td>Male</td>\n",
       "      <td>Yes</td>\n",
       "      <td>2</td>\n",
       "      <td>Graduate</td>\n",
       "      <td>No</td>\n",
       "      <td>2340000</td>\n",
       "      <td>2546000</td>\n",
       "      <td>100000</td>\n",
       "      <td>30</td>\n",
       "      <td>Good</td>\n",
       "      <td>Urban</td>\n",
       "      <td>4886000</td>\n",
       "      <td>3333</td>\n",
       "    </tr>\n",
       "    <tr>\n",
       "      <th>4</th>\n",
       "      <td>Male</td>\n",
       "      <td>No</td>\n",
       "      <td>0</td>\n",
       "      <td>Not Graduate</td>\n",
       "      <td>No</td>\n",
       "      <td>3276000</td>\n",
       "      <td>0</td>\n",
       "      <td>78000</td>\n",
       "      <td>30</td>\n",
       "      <td>Good</td>\n",
       "      <td>Urban</td>\n",
       "      <td>3276000</td>\n",
       "      <td>2600</td>\n",
       "    </tr>\n",
       "  </tbody>\n",
       "</table>\n",
       "</div>"
      ],
      "text/plain": [
       "  Gender Married  Dependents     Education Self_Employed  Applicant_Income  \\\n",
       "0   Male     Yes           0      Graduate            No           5720000   \n",
       "1   Male     Yes           1      Graduate            No           3076000   \n",
       "2   Male     Yes           2      Graduate            No           5000000   \n",
       "3   Male     Yes           2      Graduate            No           2340000   \n",
       "4   Male      No           0  Not Graduate            No           3276000   \n",
       "\n",
       "   Co-applicant_Income  Loan_Amount  Loan_Amount_Term Credit_History  \\\n",
       "0                    0       110000                30           Good   \n",
       "1              1500000       126000                30           Good   \n",
       "2              1800000       208000                30           Good   \n",
       "3              2546000       100000                30           Good   \n",
       "4                    0        78000                30           Good   \n",
       "\n",
       "  Property_Area  Total_Income   EMI  \n",
       "0         Urban       5720000  3666  \n",
       "1         Urban       4576000  4200  \n",
       "2         Urban       6800000  6933  \n",
       "3         Urban       4886000  3333  \n",
       "4         Urban       3276000  2600  "
      ]
     },
     "execution_count": 28,
     "metadata": {},
     "output_type": "execute_result"
    }
   ],
   "source": [
    "median_emi = loan['EMI'].replace([np.inf, -np.inf], np.nan).median()\n",
    "loan['EMI'] = loan['EMI'].replace([np.inf, -np.inf], np.nan).fillna(median_emi)\n",
    "loan['EMI']=loan['EMI'].astype(int)\n",
    "loan.head()"
   ]
  },
  {
   "cell_type": "code",
   "execution_count": 29,
   "id": "7a8d21f1-438c-407d-bdcc-de6a4df337f7",
   "metadata": {},
   "outputs": [
    {
     "name": "stdout",
     "output_type": "stream",
     "text": [
      "<class 'pandas.core.frame.DataFrame'>\n",
      "RangeIndex: 367 entries, 0 to 366\n",
      "Data columns (total 13 columns):\n",
      " #   Column               Non-Null Count  Dtype \n",
      "---  ------               --------------  ----- \n",
      " 0   Gender               367 non-null    object\n",
      " 1   Married              367 non-null    object\n",
      " 2   Dependents           367 non-null    int64 \n",
      " 3   Education            367 non-null    object\n",
      " 4   Self_Employed        367 non-null    object\n",
      " 5   Applicant_Income     367 non-null    int64 \n",
      " 6   Co-applicant_Income  367 non-null    int64 \n",
      " 7   Loan_Amount          367 non-null    int64 \n",
      " 8   Loan_Amount_Term     367 non-null    int64 \n",
      " 9   Credit_History       367 non-null    object\n",
      " 10  Property_Area        367 non-null    object\n",
      " 11  Total_Income         367 non-null    int64 \n",
      " 12  EMI                  367 non-null    int64 \n",
      "dtypes: int64(7), object(6)\n",
      "memory usage: 37.4+ KB\n"
     ]
    }
   ],
   "source": [
    "loan.info()"
   ]
  },
  {
   "cell_type": "markdown",
   "id": "ad1445fd-cdf6-412d-8fdb-da7b9076a0d8",
   "metadata": {},
   "source": [
    "----"
   ]
  },
  {
   "cell_type": "markdown",
   "id": "cc0cc077-13b5-44ae-9071-ebacafc7c285",
   "metadata": {},
   "source": [
    "EXPLORATORY DATA ANALYSIS (EDA)"
   ]
  },
  {
   "cell_type": "markdown",
   "id": "6e83be79-b1be-4eda-8b4e-13bbf86e5231",
   "metadata": {},
   "source": [
    "UNIVARIATE ANALYSIS\n",
    "\n",
    "HISTOGRAM"
   ]
  },
  {
   "cell_type": "code",
   "execution_count": 30,
   "id": "ef6ec25d-010c-4720-a9c4-2102876adea9",
   "metadata": {},
   "outputs": [
    {
     "data": {
      "image/png": "[encoded data removed]",
      "text/plain": [
       "<Figure size 600x400 with 1 Axes>"
      ]
     },
     "metadata": {},
     "output_type": "display_data"
    }
   ],
   "source": [
    "plt.figure(figsize=(6, 4))\n",
    "sns.histplot(loan['Applicant_Income'], bins=30, kde=True)\n",
    "plt.title(f'Distribution of {'Applicant_Income'}')\n",
    "plt.xlabel('Applicant_Income (Lakhs)')\n",
    "plt.ylabel('Frequency')\n",
    "plt.show()"
   ]
  },
  {
   "cell_type": "markdown",
   "id": "71de9f37-946c-4a18-8c28-b4d5cfa75c17",
   "metadata": {},
   "source": [
    "INSIGHTS.\n",
    "\n",
    "    -- Most applicants earn low and only a few earn very high salaries.\n",
    "\n",
    "    -- The graph is skewed to the right, showing that high-income applicants are rare.\n",
    "\n",
    "    -- A large cluster of applicants falls within a common income range.\n",
    "\n",
    "    -- The spread in income levels suggests applicants come from very different financial backgrounds."
   ]
  },
  {
   "cell_type": "markdown",
   "id": "2fa46575-57eb-4932-a4e4-2414bb65de10",
   "metadata": {},
   "source": [
    "----"
   ]
  },
  {
   "cell_type": "markdown",
   "id": "380e4ff3-26b0-46ba-a762-59adb5911176",
   "metadata": {},
   "source": [
    "HISTOGRAM "
   ]
  },
  {
   "cell_type": "code",
   "execution_count": 31,
   "id": "68209046-21e4-4d6a-b31e-6f068740f3ae",
   "metadata": {},
   "outputs": [
    {
     "data": {
      "image/png": "[encoded data removed]",
      "text/plain": [
       "<Figure size 600x400 with 1 Axes>"
      ]
     },
     "metadata": {},
     "output_type": "display_data"
    }
   ],
   "source": [
    "plt.figure(figsize=(6, 4))\n",
    "sns.histplot(loan['Co-applicant_Income'], bins=20, kde=True)\n",
    "plt.title(f'Distribution of {'Co-applicant_Income'}')\n",
    "plt.xlabel('Co-applicant_Income (Lakhs)')\n",
    "plt.ylabel('Frequency')\n",
    "plt.show()"
   ]
  },
  {
   "cell_type": "markdown",
   "id": "b4b40ddf-6791-40c8-b98f-536b10a5012f",
   "metadata": {},
   "source": [
    "INSIGHTS\n",
    "\n",
    "    -- Most co-applicants have very low income, as the bars are highest near zero.\n",
    "\n",
    "    -- The income distribution is highly skewed to the right, this shows that only a few co-applicants earn very high amounts.\n",
    "\n",
    "    -- A large number of co-applicants have income less than 5 lakhs, showing they belong to lower income groups.\n",
    "\n",
    "    -- The overall spread of income shows that co-applicants generally contribute less compared to main applicants."
   ]
  },
  {
   "cell_type": "markdown",
   "id": "05310642-616f-4479-b47e-607720679888",
   "metadata": {},
   "source": [
    "----"
   ]
  },
  {
   "cell_type": "markdown",
   "id": "4fd262a4-f246-40d8-a555-804280364c31",
   "metadata": {},
   "source": [
    "VIOLIN PLOT"
   ]
  },
  {
   "cell_type": "code",
   "execution_count": 32,
   "id": "68a00957-5e23-4a0a-9438-24dbef7cf076",
   "metadata": {},
   "outputs": [
    {
     "data": {
      "image/png": "[encoded data removed]",
      "text/plain": [
       "<Figure size 600x400 with 1 Axes>"
      ]
     },
     "metadata": {},
     "output_type": "display_data"
    }
   ],
   "source": [
    "plt.figure(figsize=(6, 4))\n",
    "sns.violinplot(y=loan['Loan_Amount']/100000)\n",
    "plt.title('Violin Plot of Loan Amount')\n",
    "plt.ylabel('Loan Amount (Lakhs)')\n",
    "plt.tight_layout()\n",
    "plt.show()\n"
   ]
  },
  {
   "attachments": {},
   "cell_type": "markdown",
   "id": "636d0e50-14ed-4cf9-85e0-f1e89540ae6b",
   "metadata": {},
   "source": [
    "INSIGHTS.\n",
    "\n",
    "    -- The violin is wider between 1 to 2 lakhs, indicating that a large number of applicants fall in this range.\n",
    "\n",
    "    -- The majority of loans are concentrated around 1 lakh to 2 lakhs, showing that most applicants request relatively modest loan amounts.\n",
    "\n",
    "    -- The plot has a long upper tail, meaning there are a few applicants who applied for very large loans.\n",
    "\n",
    "    -- The central box inside the violin shows that the median loan amount is close to 1.3 lakhs."
   ]
  },
  {
   "cell_type": "markdown",
   "id": "5dd4d61a-c020-45de-a5a1-ac53f997e533",
   "metadata": {},
   "source": [
    "-----"
   ]
  },
  {
   "cell_type": "markdown",
   "id": "05b87d36-718c-4a8b-b2a5-35c2d8daabc4",
   "metadata": {},
   "source": [
    "BIVARIATE ANALYSIS"
   ]
  },
  {
   "cell_type": "markdown",
   "id": "8efe4921-d8e6-47c1-949a-72434dc8dbb6",
   "metadata": {},
   "source": [
    "SCATTER PLOT"
   ]
  },
  {
   "cell_type": "code",
   "execution_count": 33,
   "id": "6ce1c496-a336-4eb9-9889-4b517047018c",
   "metadata": {},
   "outputs": [
    {
     "data": {
      "image/png": "[encoded data removed]",
      "text/plain": [
       "<Figure size 640x480 with 1 Axes>"
      ]
     },
     "metadata": {},
     "output_type": "display_data"
    }
   ],
   "source": [
    "sns.scatterplot(x='Applicant_Income', y='Loan_Amount', data=loan)\n",
    "plt.title('Applicant Income vs. Loan Amount')\n",
    "plt.xlabel('Applicant Income (Lakhs)')\n",
    "plt.ylabel('Loan Amount')\n",
    "plt.show()"
   ]
  },
  {
   "cell_type": "markdown",
   "id": "dc97c475-b7cb-4a52-8364-235085fce205",
   "metadata": {},
   "source": [
    "INSIGHTS\n",
    "    \n",
    "    -- The majority of applicants have incomes below 1 lakh and their loan amounts are also relatively same.\n",
    "\n",
    "    -- There is a dense cluster of points around low income and low-to-moderate loan amounts, suggesting that most applicants are in this category.\n",
    "\n",
    "    -- A few applicants with very high incomes and very high loan amounts stand out, but they are rare compared to the majority.\n",
    "\n",
    "    -- There is a slight trend that as income increases, the loan amount also increases, but the relationship is not very strong."
   ]
  },
  {
   "cell_type": "markdown",
   "id": "7645fa58-91f8-49fe-b46d-39ae30b87706",
   "metadata": {},
   "source": [
    "----"
   ]
  },
  {
   "cell_type": "markdown",
   "id": "984ce798-48d2-4f3b-8885-fbbeed875c8b",
   "metadata": {},
   "source": [
    "POINT PLOT"
   ]
  },
  {
   "cell_type": "code",
   "execution_count": 34,
   "id": "c30c9a32-336d-422d-bf80-cf42cf2239b4",
   "metadata": {},
   "outputs": [
    {
     "data": {
      "image/png": "[encoded data removed]",
      "text/plain": [
       "<Figure size 640x480 with 1 Axes>"
      ]
     },
     "metadata": {},
     "output_type": "display_data"
    }
   ],
   "source": [
    "sns.pointplot(x=\"Education\", y=\"Loan_Amount\", data=loan)\n",
    "plt.title(\"Education vs Loan Amount\")\n",
    "plt.show()"
   ]
  },
  {
   "cell_type": "markdown",
   "id": "ace95faa-25e6-4bc9-a2f1-175b9ff58716",
   "metadata": {},
   "source": [
    "INSIGHTS\n",
    "\n",
    "    -- On average, people who are graduates tend to take higher loan amounts compared to non-graduates.\n",
    "\n",
    "    -- Applicants without graduation generally have smaller loan amounts, which could be due to lower income levels.\n",
    "\n",
    "    -- The line moves downward from graduates to non-graduates, confirming that higher education is linked to higher loan amounts."
   ]
  },
  {
   "cell_type": "markdown",
   "id": "2c7f0f49-fb2f-4ed6-99a8-c69c75da632c",
   "metadata": {},
   "source": [
    "-----"
   ]
  },
  {
   "cell_type": "markdown",
   "id": "824b315f-3fb3-448e-983f-b8a4f9df4d89",
   "metadata": {},
   "source": [
    "MULTIVARIATE ANALYSIS"
   ]
  },
  {
   "cell_type": "markdown",
   "id": "6f4f6583-8473-4937-8d3a-e6649c79e276",
   "metadata": {},
   "source": [
    "HEATMAP"
   ]
  },
  {
   "cell_type": "code",
   "execution_count": 35,
   "id": "cd2d91cc-1a4f-4e4d-bbbd-d9d1ef2bfc14",
   "metadata": {},
   "outputs": [
    {
     "data": {
      "image/png": "[encoded data removed]",
      "text/plain": [
       "<Figure size 800x600 with 2 Axes>"
      ]
     },
     "metadata": {},
     "output_type": "display_data"
    }
   ],
   "source": [
    "numerical_cols = ['Applicant_Income', 'Co-applicant_Income', 'Loan_Amount', 'Dependents']\n",
    "corr_matrix = loan[numerical_cols].corr()\n",
    "plt.figure(figsize=(8, 6))\n",
    "sns.heatmap(corr_matrix, annot=True, cmap='coolwarm', fmt=\".2f\")\n",
    "plt.title('Correlation Heatmap')\n",
    "plt.show()"
   ]
  },
  {
   "cell_type": "markdown",
   "id": "490bbea4-173d-40b3-8d50-a69653191949",
   "metadata": {},
   "source": [
    "INSIGHTS\n",
    "\n",
    "    -- Applicant's Income and Loan Amount: There is a strong positive link (0.46). This indicates that as an applicant's income increases, the requested loan amount also tends to increase. \n",
    "\n",
    "    -- Co-applicant's Income and Loan Amount: Co-applicant Income has a positive correlation with loan amount (0.19), which is weaker than the applicant's income but still shows that a higher co-applicant income is associated with a larger loan.\n",
    "\n",
    "    -- Dependents and Income: Correlation between ApplicantIncome and Dependents is 0.16. This suggests that applicants with more dependents tend to have a higher income.\n",
    "\n",
    "    -- Co-applicant's Income and Dependents: A negative correlation exists between th (−0.05). This implies that as the number of dependents increases, the co-applicant's income tends to slightly decrease."
   ]
  },
  {
   "cell_type": "markdown",
   "id": "7850a2e8-fddb-4da5-ad9e-557b98442439",
   "metadata": {},
   "source": [
    "-----"
   ]
  },
  {
   "cell_type": "markdown",
   "id": "c2a6d38c-6493-4c1b-bd2d-c72dbde597e5",
   "metadata": {},
   "source": [
    "PAIRPLOT"
   ]
  },
  {
   "cell_type": "code",
   "execution_count": 36,
   "id": "4de9a11f-fe02-429a-9944-fa17887cca88",
   "metadata": {},
   "outputs": [
    {
     "data": {
      "image/png": "[encoded data removed]",
      "text/plain": [
       "<Figure size 894.125x750 with 12 Axes>"
      ]
     },
     "metadata": {},
     "output_type": "display_data"
    }
   ],
   "source": [
    "sns.pairplot(loan,vars=['Applicant_Income','Co-applicant_Income','Loan_Amount'], hue='Education')\n",
    "plt.show()"
   ]
  },
  {
   "cell_type": "markdown",
   "id": "02065064-7aa6-4808-be8c-0345d828474c",
   "metadata": {},
   "source": [
    "INSIGHTS\n",
    "\n",
    "    -- Education strongly affects applicant income – graduates earn more.\n",
    "\n",
    "    -- Loan amounts are higher for graduates compared to non-graduates.\n",
    "\n",
    "    -- Applicant income is positively related to loan amount, especially for graduates.\n",
    "\n",
    "    -- Co-applicant income is less influenced by education and shows weaker relation to loan amount.\n",
    "\n",
    "    -- Graduates have a financial advantage in loan approvals due to higher incomes and higher loan eligibility."
   ]
  },
  {
   "cell_type": "markdown",
   "id": "105af651-342c-4089-b0c1-9b0afb354fad",
   "metadata": {},
   "source": [
    "----"
   ]
  },
  {
   "cell_type": "markdown",
   "id": "5a611a2e-df48-4f76-a86a-44fb78a2e82e",
   "metadata": {},
   "source": [
    "BAR CHART"
   ]
  },
  {
   "cell_type": "code",
   "execution_count": 37,
   "id": "4429ef34-9b2d-4a15-9d48-0c6cebaf09f4",
   "metadata": {},
   "outputs": [
    {
     "data": {
      "image/png": "[encoded data removed]",
      "text/plain": [
       "<Figure size 800x600 with 1 Axes>"
      ]
     },
     "metadata": {},
     "output_type": "display_data"
    }
   ],
   "source": [
    "plt.figure(figsize=(8,6))\n",
    "sns.barplot(x=\"Married\", y=\"Applicant_Income\", hue=\"Education\", data=loan)\n",
    "plt.title(\"Applicant Income by Marital Status and Education\")\n",
    "plt.ylabel(\"Average Applicant Income\")\n",
    "plt.xlabel(\"Marital Status\")\n",
    "plt.show()"
   ]
  },
  {
   "cell_type": "markdown",
   "id": "a549c2d9-782a-4e4a-a5e2-ba89aef4134e",
   "metadata": {},
   "source": [
    "Insights\n",
    "\n",
    "1. Income and Education:\n",
    "        For both married and unmarried applicants, graduates have a slightly higher average income than non-graduates.\n",
    "\n",
    "2. Marital Status and Income:\n",
    "        Across both education levels, married applicants have a significantly higher average income than unmarried applicants. \n",
    "\n",
    "3. Combined Insight:\n",
    "        The highest average income is found among married graduates, followed by married non-graduates, unmarried graduates, and finally unmarried non-graduates."
   ]
  },
  {
   "cell_type": "markdown",
   "id": "28b1e331-be68-4efa-a8c8-808161888303",
   "metadata": {},
   "source": [
    "----"
   ]
  },
  {
   "cell_type": "markdown",
   "id": "edca99a3-8142-4878-8439-31b9cbc0a0fd",
   "metadata": {},
   "source": [
    "HYPOTHESIS TESTING"
   ]
  },
  {
   "cell_type": "markdown",
   "id": "b00ad458-60ec-4ad5-afee-c0f053dff10e",
   "metadata": {},
   "source": [
    "T-TEST"
   ]
  },
  {
   "cell_type": "markdown",
   "id": "c9145beb-3ee8-42f8-b246-21bee6c0d2fe",
   "metadata": {},
   "source": [
    "--> HYPOTHESIS:\n",
    "\n",
    "     NULL HYPOTHESIS (H₀): Male and Female applicants have same average incomes.\n",
    "     \n",
    "     ALTERNATIVE HYPOTHESIS (H₁): Male and Female applicants have different average incomes. \n"
   ]
  },
  {
   "cell_type": "code",
   "execution_count": 38,
   "id": "202d2118-8497-41fc-918b-d62155efa6fc",
   "metadata": {},
   "outputs": [
    {
     "name": "stdout",
     "output_type": "stream",
     "text": [
      "T-test Result:\n",
      "T-statistic :1.80 , p-value :0.0734\n",
      "Fail to Reject H₀: There is significant difference in Applicant Income between Male and Female applicants.\n"
     ]
    }
   ],
   "source": [
    "from scipy.stats import ttest_ind\n",
    "\n",
    "male_income = loan[loan['Gender'] == 'Male']['Applicant_Income']\n",
    "female_income = loan[loan['Gender'] == 'Female']['Applicant_Income']\n",
    "\n",
    "t_stat, p_value = ttest_ind(male_income, female_income, equal_var=False) \n",
    "print(\"T-test Result:\")\n",
    "print(f\"T-statistic :{ t_stat:.2f} , p-value :{ p_value:.4f}\")\n",
    "\n",
    "if p_value < 0.05:\n",
    "    print(\"Reject H₀: There is no significant difference in Applicant Income between Male and Female applicants.\")\n",
    "else:\n",
    "    print(\"Fail to Reject H₀: There is significant difference in Applicant Income between Male and Female applicants.\")\n"
   ]
  },
  {
   "cell_type": "markdown",
   "id": "81a16745-ab27-4da9-8e04-4cd7fa53d060",
   "metadata": {},
   "source": [
    "----"
   ]
  },
  {
   "cell_type": "code",
   "execution_count": 39,
   "id": "7456cf94-3a79-4b9b-bdb9-02d961b420d6",
   "metadata": {},
   "outputs": [
    {
     "name": "stdout",
     "output_type": "stream",
     "text": [
      "Group Statistics:\n",
      "                 mean           std  count\n",
      "Gender                                   \n",
      "Female  4.163600e+06  2.644869e+06     70\n",
      "Male    4.956912e+06  5.297787e+06    297\n"
     ]
    }
   ],
   "source": [
    "group_stats = loan.groupby('Gender')['Applicant_Income'].agg(['mean', 'std', 'count'])\n",
    "print(\"Group Statistics:\\n\", group_stats)"
   ]
  },
  {
   "cell_type": "markdown",
   "id": "bb86d0bf-3bcc-4ff6-b64b-bda792893d47",
   "metadata": {},
   "source": [
    "ANOVA TEST"
   ]
  },
  {
   "cell_type": "markdown",
   "id": "8b0e82dd-813d-4999-9c4d-78512b3b2717",
   "metadata": {},
   "source": [
    "-->HYPOTHESIS:\n",
    "\n",
    "     NULL HYPOTHESIS (H₀): Average income of graduates and non-graduates are not same.\n",
    "     \n",
    "     ALTERNATIVE HYPOTHESIS (H₁): Average income of graduates and non-graduates are same."
   ]
  },
  {
   "cell_type": "code",
   "execution_count": 40,
   "id": "7ea0cf98-edcc-4545-80db-65d8e6afeb1b",
   "metadata": {},
   "outputs": [
    {
     "name": "stdout",
     "output_type": "stream",
     "text": [
      "ANOVA Result:\n",
      "F-statistic: 6.92, p-value: 0.0089\n",
      "Reject H₀: There is significant difference in Applicant Income across Education levels.\n"
     ]
    }
   ],
   "source": [
    "from scipy.stats import f_oneway\n",
    "\n",
    "graduate_income = loan[loan['Education'] == 'Graduate']['Applicant_Income'].dropna()\n",
    "not_graduate_income = loan[loan['Education'] == 'Not Graduate']['Applicant_Income'].dropna()\n",
    "\n",
    "anova_stat, anova_p = f_oneway(graduate_income, not_graduate_income)\n",
    "print(\"ANOVA Result:\")\n",
    "print(f\"F-statistic: {anova_stat:.2f}, p-value: {anova_p:.4f}\")\n",
    "\n",
    "if anova_p < 0.05:\n",
    "    print(\"Reject H₀: There is significant difference in Applicant Income across Education levels.\")\n",
    "else:\n",
    "    print(\"Fail to Reject H₀: There is no significant difference in Applicant Income across Education levels.\")\n"
   ]
  },
  {
   "cell_type": "code",
   "execution_count": 41,
   "id": "9b071692-6746-4a59-9c37-a385e5b5dcb1",
   "metadata": {},
   "outputs": [
    {
     "name": "stdout",
     "output_type": "stream",
     "text": [
      "Group Statistics:\n",
      "                       mean           std  count\n",
      "Education                                      \n",
      "Graduate      5.169943e+06  5.442522e+06    283\n",
      "Not Graduate  3.578107e+06  1.928735e+06     84\n"
     ]
    }
   ],
   "source": [
    "group_stats = loan.groupby('Education')['Applicant_Income'].agg(['mean', 'std', 'count'])\n",
    "print(\"Group Statistics:\\n\", group_stats)"
   ]
  },
  {
   "cell_type": "markdown",
   "id": "131d0b3a-b589-42be-b4a6-bf1caea993f1",
   "metadata": {},
   "source": [
    "Overall Conclusion:\n",
    "\n",
    "    -- Applicants with higher income and graduates usually earn more.\n",
    "    \n",
    "    -- Gender does not make a big difference in income.\n",
    "    \n",
    "    -- Loan amount increases slightly with income, but banks also look at other factors before giving loans."
   ]
  },
  {
   "cell_type": "code",
   "execution_count": null,
   "id": "20d5b711-a356-4163-84db-aaf809217639",
   "metadata": {},
   "outputs": [],
   "source": []
  }
 ],
 "metadata": {
  "kernelspec": {
   "display_name": "Python [conda env:base] *",
   "language": "python",
   "name": "conda-base-py"
  },
  "language_info": {
   "codemirror_mode": {
    "name": "ipython",
    "version": 3
   },
   "file_extension": ".py",
   "mimetype": "text/x-python",
   "name": "python",
   "nbconvert_exporter": "python",
   "pygments_lexer": "ipython3",
   "version": "3.13.5"
  }
 },
 "nbformat": 4,
 "nbformat_minor": 5
}
